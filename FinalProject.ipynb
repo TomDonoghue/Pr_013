{
 "cells": [
  {
   "cell_type": "markdown",
   "metadata": {},
   "source": [
    "# COGS 108 - Final Project"
   ]
  },
  {
   "cell_type": "markdown",
   "metadata": {},
   "source": [
    "## Introduction & Background\n",
    "\n",
    "Every day drivers across the United States are stopped by police officers and issued traffic tickets. Often, drivers get pulled over for a few common reasons, such as speeding, distracted driving, equipment violations, tailgating and improper lane changes, etc. However, there might be other factors such as race, gender, and age, as well as time of day and location, that could impact both whether a driver is pulled over for a traffic violation, as well as the severity of the result.\n",
    "\n",
    "As for background information, we did some research on the issue of police vehicle stops to further making predictions for this project. One of the articles we found indicated that a larger portion of black and hispanic drivers were being pulled over as opposed to white drivers. Additionally, a similar analysis conducted on traffic stop data showed that black and hispanic drivers were “more likely than white drivers to be searched following a traffic stop”. Plus, based on our own experiences, as well as those of others frequently heard about in the media, we came to the prediction that minority groups may possible be targeted with more severe or frequent citations. As for gender, there are existing stereotypes that women normally have a harder time on the road compared to men. Plus, gender ideologies that have been established lead us to the prediction that women tend to get pulled over more often. Looking into this data would help clarify these stereotypes and ideologies.\n",
    "\n",
    "As we all know police officers can’t randomly pull drivers over and give tickets without having probable cause, like speeding or equipment violations. However, there might be cases where you feel as though you are not at fault but afraid to fight back against them because police officers have higher authority. In fact, we ourselves had experienced being pulled over and getting tickets for unreasonable situations. We believe this information may be important for us and others to figure out a way to back up ourselves under circumstances that we don’t feel at fault. In any case, whether these variables have some correlation or relationship with traffic violations would be both interesting and useful to know."
   ]
  },
  {
   "cell_type": "markdown",
   "metadata": {},
   "source": [
    "### Group Members:\n",
    "- Amitoj Setia A11463602\n",
    "- A14255637\n",
    "- Henry Zhou A13167547\n",
    "- A13633912"
   ]
  },
  {
   "cell_type": "markdown",
   "metadata": {},
   "source": [
    "### Research Question\n",
    "What is the relationship between race/gender/age and traffic violation frequency in San Diego?"
   ]
  },
  {
   "cell_type": "markdown",
   "metadata": {},
   "source": [
    "### Hypothesis\n",
    "We predict that women drivers tend to get pulled over by police officers more often than male drivers. As for race, we predict that minority groups and nonwhite races also tend to get stopped more frequently than others. We also predict that teenagers and younger drivers commit more traffic violations than older drivers. After skimming through the dataset, we also predict that San Diego residents tend to get stopped in a longer time frame and frequently get tickets more than non-residents. "
   ]
  },
  {
   "cell_type": "markdown",
   "metadata": {},
   "source": [
    "### Dataset Information\n",
    "- Police Vehicle Stops in 2016\n",
    "- https://data.sandiego.gov/datasets/police-vehicle-stops/\n",
    "- 103051 entries in raw dataset\n",
    "\n",
    "The websites provides data for vehicle stops in separate datasets per year, and also provides a separate dataset with the results of each traffic stop. The vehicle stop dataset contains information such as the race, gender, and age of the person stopped, as well as the stop date, time, and location. "
   ]
  },
  {
   "cell_type": "code",
   "execution_count": 1,
   "metadata": {
    "collapsed": false
   },
   "outputs": [],
   "source": [
    "%matplotlib inline\n",
    "\n",
    "import pandas as pd\n",
    "import numpy as np\n",
    "import matplotlib.pyplot as plt\n",
    "import patsy\n",
    "import statsmodels.api as sm\n",
    "from scipy.stats import ttest_ind"
   ]
  },
  {
   "cell_type": "code",
   "execution_count": 2,
   "metadata": {
    "collapsed": true
   },
   "outputs": [],
   "source": [
    "csvfile = 'vehicle_stops_2016_datasd.csv'\n",
    "initial_df = pd.read_csv(csvfile)"
   ]
  },
  {
   "cell_type": "code",
   "execution_count": 3,
   "metadata": {
    "collapsed": true
   },
   "outputs": [],
   "source": [
    "#initial_df"
   ]
  },
  {
   "cell_type": "markdown",
   "metadata": {},
   "source": [
    "## Data Cleaning, Visualization, and Analysis"
   ]
  },
  {
   "cell_type": "markdown",
   "metadata": {},
   "source": [
    "To clean our data, we start off by removing rows with traffic stop information for equipment violations, as we are currently only looking at moving violation data. We also remove any rows where there is no recorded age data. \n",
    "We removed the 'obtained_consent', 'contraband_found', and 'property_seized' columns as there was not enough traffic stops where this was recoreded to perform a meaningful analysis. We also removed the 'stop_id' and 'stop_cause' columns as they were reduntant. We then dropped all rows with NaN data as well as rows containing an invalid entry in the 'timestamp' column."
   ]
  },
  {
   "cell_type": "markdown",
   "metadata": {},
   "source": [
    "Additionally, there is a \"service_area\" column that we were planning to use to see what areas had more frequent traffic violations, but we found it difficult to find a reference for what these area codes actually referred to, so we're omitting that column for now as well."
   ]
  },
  {
   "cell_type": "code",
   "execution_count": 4,
   "metadata": {
    "collapsed": true
   },
   "outputs": [],
   "source": [
    "df = initial_df[initial_df.stop_cause == 'Moving Violation']\n",
    "df = df[df.subject_age != 'No Age']\n",
    "del df['obtained_consent']\n",
    "del df['contraband_found']\n",
    "del df['property_seized']\n",
    "del df['service_area']\n",
    "del df['stop_id']\n",
    "del df['stop_cause']\n",
    "df.dropna(subset=['timestamp'])\n",
    "df.dropna(inplace=True)\n",
    "df = df[['timestamp', 'stop_date', 'stop_time', 'subject_race', 'subject_sex', 'subject_age', 'sd_resident', 'arrested', 'searched']]"
   ]
  },
  {
   "cell_type": "code",
   "execution_count": 5,
   "metadata": {
    "collapsed": true
   },
   "outputs": [],
   "source": [
    "#df"
   ]
  },
  {
   "cell_type": "markdown",
   "metadata": {},
   "source": [
    "The first information we want to look at is the statistics regarding which race of drivers was stopped most frequently. To do that, a bar graph provides a good representation of this data."
   ]
  },
  {
   "cell_type": "code",
   "execution_count": 6,
   "metadata": {
    "collapsed": false,
    "scrolled": true
   },
   "outputs": [
    {
     "data": {
      "image/png": "[encoded data removed]",
      "text/plain": [
       "<matplotlib.figure.Figure at 0x111d36d30>"
      ]
     },
     "metadata": {},
     "output_type": "display_data"
    }
   ],
   "source": [
    "df['subject_race'].value_counts().plot(kind='bar')\n",
    "f1 = plt.gcf()"
   ]
  },
  {
   "cell_type": "markdown",
   "metadata": {},
   "source": [
    "Unfortunately, it looks like the provided dataset separates many races into very specific categories, which makes it hard for us to visualize the race data. To help with this, we can consolidate some of the lesser used categories into more useful and general categories."
   ]
  },
  {
   "cell_type": "code",
   "execution_count": 7,
   "metadata": {
    "collapsed": false
   },
   "outputs": [
    {
     "data": {
      "image/png": "[encoded data removed]",
      "text/plain": [
       "<matplotlib.figure.Figure at 0x104344be0>"
      ]
     },
     "metadata": {},
     "output_type": "display_data"
    }
   ],
   "source": [
    "df_r = df.copy()\n",
    "df_r.subject_race = df.subject_race.replace({\"C\" : \"A\", \n",
    "                                             \"D\" : \"A\",\n",
    "                                             \"F\" : \"O\", \n",
    "                                             \"G\" : \"O\",\n",
    "                                             \"I\" : \"A\",\n",
    "                                             \"J\" : \"A\",\n",
    "                                             \"K\" : \"A\",\n",
    "                                             \"L\" : \"O\",\n",
    "                                             \"P\" : \"O\",\n",
    "                                             \"S\" : \"O\",\n",
    "                                             \"U\" : \"O\",\n",
    "                                             \"V\" : \"A\",\n",
    "                                             \"Z\" : \"A\",\n",
    "                                             \"X\" : \"O\",})\n",
    "df_r['subject_race'].value_counts().plot(kind='bar')\n",
    "f1 = plt.gcf()"
   ]
  },
  {
   "cell_type": "markdown",
   "metadata": {},
   "source": [
    "Now, with many of the rarely used classifiers removed, we can easily see the ratio of white, black, hispanic, asian, and drivers of other backgrounds that were pulled over. There were roughly 25,000 instances of white drivers being pulled over, followed by roughly 15,000 hispanic drivers, 5,000 black drivers, 4,000 asian drivers, and 5,000 drivers of other race. Although this contradicts our hypothesis that nonwhite drivers would be stopped more frequently, we can't yet determine if this is just representative of the population of drivers in general, nor can we determine if this is due to these specific groups being profiled or simply commiting violations more frequently."
   ]
  },
  {
   "cell_type": "markdown",
   "metadata": {},
   "source": [
    "The next thing we want to look at is the distribution of ages of people who were stopped. For this, a histogram is a good visualization."
   ]
  },
  {
   "cell_type": "code",
   "execution_count": 8,
   "metadata": {
    "collapsed": false
   },
   "outputs": [
    {
     "data": {
      "image/png": "[encoded data removed]",
      "text/plain": [
       "<matplotlib.figure.Figure at 0x10f570630>"
      ]
     },
     "metadata": {},
     "output_type": "display_data"
    }
   ],
   "source": [
    "df_a = df.copy()\n",
    "df_a.subject_age = pd.to_numeric(df_a.subject_age, errors='coerce')\n",
    "plt.hist(df_a['subject_age'], 25)\n",
    "f1 = plt.gcf()"
   ]
  },
  {
   "cell_type": "markdown",
   "metadata": {},
   "source": [
    "While we can get some useful information out of the histogram as-is, it might be better if we eliminated some outliers. To do so, we'll remove all rows where the data for the subject ages exceeds +/- 3 standard deviations above or below the mean, and replot the histogram."
   ]
  },
  {
   "cell_type": "code",
   "execution_count": 9,
   "metadata": {
    "collapsed": true
   },
   "outputs": [],
   "source": [
    "mean = df_a['subject_age'].mean()\n",
    "std3 = 3 * df_a['subject_age'].std()\n",
    "std_max = mean + std3\n",
    "std_min = mean - std3\n",
    "df_a = df_a[df_a['subject_age'] > std_min]\n",
    "df_a = df_a[df_a['subject_age'] < std_max]\n",
    "df_a = df_a[df_a['subject_age'] > 10]"
   ]
  },
  {
   "cell_type": "code",
   "execution_count": 10,
   "metadata": {
    "collapsed": false
   },
   "outputs": [
    {
     "data": {
      "image/png": "[encoded data removed]",
      "text/plain": [
       "<matplotlib.figure.Figure at 0x10f5a3a20>"
      ]
     },
     "metadata": {},
     "output_type": "display_data"
    }
   ],
   "source": [
    "df_a.subject_age = pd.to_numeric(df_a.subject_age, errors='coerce')\n",
    "plt.hist(df_a['subject_age'], 25)\n",
    "f1 = plt.gcf()"
   ]
  },
  {
   "cell_type": "markdown",
   "metadata": {},
   "source": [
    "Here we can properly see the age distribution of people committing traffic violations. We can see a definitive skew towards younger drivers, although it appears there are much more violations within people in their mid 20's and mid 30's, rather than teenagers as we initially suspected."
   ]
  },
  {
   "cell_type": "markdown",
   "metadata": {
    "collapsed": true
   },
   "source": [
    "Next, lets take a look at which sex of drivers were pulled over more frequently. For this, a simple bar graph will be useful as well."
   ]
  },
  {
   "cell_type": "code",
   "execution_count": 11,
   "metadata": {
    "collapsed": false
   },
   "outputs": [
    {
     "data": {
      "image/png": "[encoded data removed]",
      "text/plain": [
       "<matplotlib.figure.Figure at 0x104303dd8>"
      ]
     },
     "metadata": {},
     "output_type": "display_data"
    }
   ],
   "source": [
    "df['subject_sex'].value_counts().plot(kind='bar')\n",
    "f1 = plt.gcf()"
   ]
  },
  {
   "cell_type": "markdown",
   "metadata": {},
   "source": [
    "We can see here that there have been almost twice as many male drivers pulled over for traffic violations as there have been female drivers. While this does contradict our hypothesis that female drivers are pulled over more frequently, so far this data doesn't indicate specifically that male drivers are pulled more often, as it may be possible that there are more male drivers on the road in general than there are female."
   ]
  },
  {
   "cell_type": "markdown",
   "metadata": {},
   "source": [
    "Next, lets take a look at the demographics of people who were searched or arrested following a traffic violation stop."
   ]
  },
  {
   "cell_type": "code",
   "execution_count": 12,
   "metadata": {
    "collapsed": false
   },
   "outputs": [],
   "source": [
    "df.arrested = df.arrested.replace({\"y\" : \"Y\", \"n\" : \"N\"})\n",
    "df.searched = df.searched.replace({\"y\" : \"Y\", \"n\" : \"N\"})\n",
    "df = df[df.searched != '\\\\']\n",
    "\n",
    "df_hispanic = df[df['subject_race'] == 'H']\n",
    "df_male = df[df['subject_sex'] == 'M']\n",
    "df_female = df[df['subject_sex'] == 'W']\n",
    "\n",
    "w_arrests = df[df['subject_race'] == 'W']['arrested'].value_counts()\n",
    "w_searches = df[df['subject_race'] == 'W']['searched'].value_counts()\n",
    "b_arrests = df[df['subject_race'] == 'B']['arrested'].value_counts()\n",
    "b_searches = df[df['subject_race'] == 'B']['searched'].value_counts()\n",
    "h_arrests = df[df['subject_race'] == 'H']['arrested'].value_counts()\n",
    "h_searches = df[df['subject_race'] == 'H']['searched'].value_counts()"
   ]
  },
  {
   "cell_type": "markdown",
   "metadata": {},
   "source": [
    "To begin, we'll clean up the arrested and searched columns so the data responses are consistent, and then we'll store the amounts of people who were arrested or searched following a traffic violation into different variables based on race. To keep things simple we'll focus on the three largest groups- white, black, and hispanic drivers. After doing this, we can find the ratio of people in these categories who were arrested or searched after being pulled over."
   ]
  },
  {
   "cell_type": "code",
   "execution_count": 13,
   "metadata": {
    "collapsed": false
   },
   "outputs": [
    {
     "name": "stdout",
     "output_type": "stream",
     "text": [
      "Percentage of white drivers searched during a traffic violation: 1.73791605245\n",
      "Percentage of black drivers searched during a traffic violation: 6.2488679587\n",
      "Percentage of hispanic drivers searched during a traffic violation: 3.9373017354\n"
     ]
    }
   ],
   "source": [
    "w_search_ratio = (w_searches[1]) / (w_searches[0] + w_searches[1]) * 100\n",
    "b_search_ratio = (b_searches[1]) / (b_searches[0] + b_searches[1]) * 100\n",
    "h_search_ratio = (h_searches[1]) / (h_searches[0] + h_searches[1]) * 100\n",
    "print('Percentage of white drivers searched during a traffic violation:', w_search_ratio)\n",
    "print('Percentage of black drivers searched during a traffic violation:', b_search_ratio)\n",
    "print('Percentage of hispanic drivers searched during a traffic violation:', h_search_ratio)"
   ]
  },
  {
   "cell_type": "code",
   "execution_count": 14,
   "metadata": {
    "collapsed": false
   },
   "outputs": [
    {
     "name": "stdout",
     "output_type": "stream",
     "text": [
      "Percentage of white drivers arrested as the result of a traffic violation: 0.713786950112\n",
      "Percentage of black drivers arrested as the result of a traffic violation: 1.91994203949\n",
      "Percentage of hispanic drivers arrested as the result of a traffic violation: 1.21291285688\n"
     ]
    }
   ],
   "source": [
    "w_arrest_ratio = (w_arrests[1]) / (w_arrests[0] + w_arrests[1]) * 100\n",
    "b_arrest_ratio = (b_arrests[1]) / (b_arrests[0] + b_arrests[1]) * 100\n",
    "h_arrest_ratio = (h_arrests[1]) / (h_arrests[0] + h_arrests[1]) * 100\n",
    "print('Percentage of white drivers arrested as the result of a traffic violation:', w_arrest_ratio)\n",
    "print('Percentage of black drivers arrested as the result of a traffic violation:', b_arrest_ratio)\n",
    "print('Percentage of hispanic drivers arrested as the result of a traffic violation:', h_arrest_ratio)"
   ]
  },
  {
   "cell_type": "markdown",
   "metadata": {},
   "source": [
    "Next, lets take a look at the sd_resident column. We're interested in seeing if there is a relationship with stop duration and whether or not the person was a San Diego resident."
   ]
  },
  {
   "cell_type": "code",
   "execution_count": 15,
   "metadata": {
    "collapsed": false
   },
   "outputs": [
    {
     "name": "stdout",
     "output_type": "stream",
     "text": [
      "Y    25605\n",
      "N    10645\n",
      "Name: sd_resident, dtype: int64 Y    15596\n",
      "N     5214\n",
      "Name: sd_resident, dtype: int64\n"
     ]
    },
    {
     "data": {
      "text/plain": [
       "<matplotlib.axes._subplots.AxesSubplot at 0x10efde438>"
      ]
     },
     "execution_count": 15,
     "metadata": {},
     "output_type": "execute_result"
    },
    {
     "data": {
      "image/png": "[encoded data removed]",
      "text/plain": [
       "<matplotlib.figure.Figure at 0x10435c048>"
      ]
     },
     "metadata": {},
     "output_type": "display_data"
    }
   ],
   "source": [
    "m_res = df[df['subject_sex'] == 'M']['sd_resident'].value_counts()\n",
    "f_res = df[df['subject_sex'] == 'F']['sd_resident'].value_counts()\n",
    "print (m_res, f_res)\n",
    "df['sd_resident'].value_counts().plot(kind='bar')"
   ]
  },
  {
   "cell_type": "code",
   "execution_count": 16,
   "metadata": {
    "collapsed": false
   },
   "outputs": [
    {
     "name": "stdout",
     "output_type": "stream",
     "text": [
      "62.146549841 % male residents and 37.853450159 % female residents.\n",
      "67.1227694054 % male non-residents and 32.8772305946 % female non-residents.\n",
      "72.2064493516 % are San Diego residents and 27.7935506484 % are non-residents.\n"
     ]
    }
   ],
   "source": [
    "#San Diego male/female resident ratio and male/female non-resident ratio\n",
    "m_res_ratio = m_res[0]/(m_res[0] + f_res[0]) * 100\n",
    "f_res_ratio = f_res[0]/(m_res[0] + f_res[0]) * 100\n",
    "print (m_res_ratio, '% male residents and', f_res_ratio, '% female residents.')\n",
    "\n",
    "m_non_ratio = m_res[1]/(m_res[1] + f_res[1]) * 100\n",
    "f_non_ratio = f_res[1]/(m_res[1] + f_res[1]) * 100\n",
    "print (m_non_ratio, '% male non-residents and', f_non_ratio, '% female non-residents.')\n",
    "\n",
    "#San Diego residents / non-resident ratio\n",
    "sd_res = df['sd_resident'].value_counts()\n",
    "sd_res_ratio = sd_res[0]/(sd_res[0] + sd_res[1]) * 100\n",
    "sd_non_ratio = sd_res[1]/(sd_res[0] + sd_res[1]) * 100\n",
    "print (sd_res_ratio, '% are San Diego residents and', sd_non_ratio, '% are non-residents.')"
   ]
  },
  {
   "cell_type": "code",
   "execution_count": 17,
   "metadata": {
    "collapsed": false
   },
   "outputs": [
    {
     "name": "stdout",
     "output_type": "stream",
     "text": [
      "Average stop time for male residents: 769.7015817223198\n",
      "Average stop time for male non-residents: 762.5028651949272\n",
      "Average stop time for female residents: 738.1676711977431\n",
      "Average stop time for female non-residents: 762.9810126582279\n",
      "Average stop time for San Diego residents: 757.7649086187229\n",
      "Average stop time for San Diego non-residents: 762.6600668390189\n",
      "Standard deviation for San Diego residents: 341.94542717748755\n",
      "Standard deviation for San Diego non-residents: 354.7895313830933\n"
     ]
    }
   ],
   "source": [
    "#stop time of male res/non-res vs females res/non-res\n",
    "df_m = df.loc[df['subject_sex'] == 'M'] #df of males only\n",
    "df_f = df.loc[df['subject_sex'] == 'F'] #df of females only\n",
    "\n",
    "m_res = df_m[df_m['sd_resident'] == 'Y']['stop_time'] #male resident stop time\n",
    "m_non = df_m[df_m['sd_resident'] == 'N']['stop_time'] #male non-resident stop time\n",
    "f_res = df_f[df_f['sd_resident'] == 'Y']['stop_time'] #female resident stop time\n",
    "f_non = df_f[df_f['sd_resident'] == 'N']['stop_time'] #female non-resident stop time\n",
    "sd_res = df[df['sd_resident'] == 'Y']['stop_time'] #san diego resident stop time\n",
    "non_res = df[df['sd_resident'] == 'N']['stop_time'] #non-resident stop time\n",
    "\n",
    "convert = lambda x: int(x[0]) * 60 + int(x[1]) #conversion from min:sec to seconds\n",
    "\n",
    "m_res_sec = m_res.str.split(':').apply(convert) #conversion from min:sec to seconds\n",
    "m_non_sec = m_non.str.split(':').apply(convert)\n",
    "f_res_sec = f_res.str.split(':').apply(convert)\n",
    "f_non_sec = f_non.str.split(':').apply(convert)\n",
    "sd_res_sec = sd_res.str.split(':').apply(convert)\n",
    "non_res_sec = non_res.str.split(':').apply(convert)\n",
    "\n",
    "avg_m_res = m_res_sec.mean()\n",
    "avg_m_non = m_non_sec.mean()\n",
    "avg_f_res = f_res_sec.mean()\n",
    "avg_f_non = f_non_sec.mean()\n",
    "avg_sd_res = sd_res_sec.mean()\n",
    "avg_non_res = non_res_sec.mean()\n",
    "std_sd_res = sd_res_sec.std()\n",
    "std_non_res = non_res_sec.std()\n",
    "print ('Average stop time for male residents:', avg_m_res)\n",
    "print ('Average stop time for male non-residents:', avg_m_non)\n",
    "print ('Average stop time for female residents:', avg_f_res)\n",
    "print ('Average stop time for female non-residents:', avg_f_non)\n",
    "print ('Average stop time for San Diego residents:', avg_sd_res)\n",
    "print ('Average stop time for San Diego non-residents:', avg_non_res)\n",
    "print ('Standard deviation for San Diego residents:', std_sd_res)\n",
    "print ('Standard deviation for San Diego non-residents:', std_non_res)"
   ]
  },
  {
   "cell_type": "code",
   "execution_count": 18,
   "metadata": {
    "collapsed": false
   },
   "outputs": [
    {
     "data": {
      "text/html": [
       "<div>\n",
       "<table border=\"1\" class=\"dataframe\">\n",
       "  <thead>\n",
       "    <tr style=\"text-align: right;\">\n",
       "      <th></th>\n",
       "      <th></th>\n",
       "      <th>stop_time</th>\n",
       "    </tr>\n",
       "    <tr>\n",
       "      <th>subject_sex</th>\n",
       "      <th>sd_resident</th>\n",
       "      <th></th>\n",
       "    </tr>\n",
       "  </thead>\n",
       "  <tbody>\n",
       "    <tr>\n",
       "      <th rowspan=\"2\" valign=\"top\">F</th>\n",
       "      <th>N</th>\n",
       "      <td>762.981013</td>\n",
       "    </tr>\n",
       "    <tr>\n",
       "      <th>Y</th>\n",
       "      <td>738.167671</td>\n",
       "    </tr>\n",
       "    <tr>\n",
       "      <th rowspan=\"2\" valign=\"top\">M</th>\n",
       "      <th>N</th>\n",
       "      <td>762.502865</td>\n",
       "    </tr>\n",
       "    <tr>\n",
       "      <th>Y</th>\n",
       "      <td>769.701582</td>\n",
       "    </tr>\n",
       "  </tbody>\n",
       "</table>\n",
       "</div>"
      ],
      "text/plain": [
       "                          stop_time\n",
       "subject_sex sd_resident            \n",
       "F           N            762.981013\n",
       "            Y            738.167671\n",
       "M           N            762.502865\n",
       "            Y            769.701582"
      ]
     },
     "execution_count": 18,
     "metadata": {},
     "output_type": "execute_result"
    }
   ],
   "source": [
    "#Average stop time shown with pivot table\n",
    "df['stop_time'] = df['stop_time'].str.split(':').apply(lambda x: int(x[0]) * 60 + int(x[1])) #convert from min:sec to secs\n",
    "pv = df.pivot_table(values=['stop_time'], index=['subject_sex', 'sd_resident'])\n",
    "pv"
   ]
  },
  {
   "cell_type": "code",
   "execution_count": 19,
   "metadata": {
    "collapsed": false
   },
   "outputs": [
    {
     "name": "stdout",
     "output_type": "stream",
     "text": [
      "                            OLS Regression Results                            \n",
      "==============================================================================\n",
      "Dep. Variable:              stop_time   R-squared:                       0.000\n",
      "Model:                            OLS   Adj. R-squared:                  0.000\n",
      "Method:                 Least Squares   F-statistic:                     2.298\n",
      "Date:                Sun, 11 Jun 2017   Prob (F-statistic):              0.130\n",
      "Time:                        20:14:52   Log-Likelihood:            -4.1449e+05\n",
      "No. Observations:               57060   AIC:                         8.290e+05\n",
      "Df Residuals:                   57058   BIC:                         8.290e+05\n",
      "Df Model:                           1                                         \n",
      "Covariance Type:            nonrobust                                         \n",
      "====================================================================================\n",
      "                       coef    std err          t      P>|t|      [95.0% Conf. Int.]\n",
      "------------------------------------------------------------------------------------\n",
      "Intercept          762.6601      2.744    277.934      0.000       757.282   768.038\n",
      "sd_resident[T.Y]    -4.8952      3.229     -1.516      0.130       -11.225     1.434\n",
      "==============================================================================\n",
      "Omnibus:                      669.208   Durbin-Watson:                   0.111\n",
      "Prob(Omnibus):                  0.000   Jarque-Bera (JB):              444.366\n",
      "Skew:                          -0.082   Prob(JB):                     3.21e-97\n",
      "Kurtosis:                       2.600   Cond. No.                         3.56\n",
      "==============================================================================\n",
      "\n",
      "Warnings:\n",
      "[1] Standard Errors assume that the covariance matrix of the errors is correctly specified.\n"
     ]
    }
   ],
   "source": [
    "#Linear model to predict STOP TIME from SD RESIDENCY. \n",
    "outcome_1, predictors_1 = patsy.dmatrices('stop_time ~ sd_resident', df)\n",
    "mod_1 = sm.OLS(outcome_1, predictors_1)\n",
    "res_1 = mod_1.fit()\n",
    "print (res_1.summary())"
   ]
  },
  {
   "cell_type": "markdown",
   "metadata": {
    "collapsed": true
   },
   "source": [
    "P value is greater than 0.05, fail to reject the null hypothesis. Result is statistically nonsignificant (there is no effect).\n",
    "SD residents does not get stopped longer than non-residents."
   ]
  },
  {
   "cell_type": "markdown",
   "metadata": {},
   "source": [
    "## Conclusions & Discussion"
   ]
  },
  {
   "cell_type": "markdown",
   "metadata": {},
   "source": []
  }
 ],
 "metadata": {
  "kernelspec": {
   "display_name": "Python 3",
   "language": "python",
   "name": "python3"
  },
  "language_info": {
   "codemirror_mode": {
    "name": "ipython",
    "version": 3
   },
   "file_extension": ".py",
   "mimetype": "text/x-python",
   "name": "python",
   "nbconvert_exporter": "python",
   "pygments_lexer": "ipython3",
   "version": "3.6.0"
  }
 },
 "nbformat": 4,
 "nbformat_minor": 2
}
