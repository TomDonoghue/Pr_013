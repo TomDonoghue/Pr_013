{
 "cells": [
  {
   "cell_type": "markdown",
   "metadata": {},
   "source": [
    "# COGS 108 - Assignment 4: Project Proposal"
   ]
  },
  {
   "cell_type": "markdown",
   "metadata": {},
   "source": [
    "## Important\n",
    "\n",
    "- Make sure all group member (3-5 people) are listed in the group members section.\n",
    "- ONE, and only one, member of your group should upload this notebook to TritonED. \n",
    "- Each member of the group will receive the same grade on this assignment. \n",
    "- Keep the file name the same: submit the file 'A4_ProjectProposal.ipynb'"
   ]
  },
  {
   "cell_type": "markdown",
   "metadata": {},
   "source": [
    "## Overview"
   ]
  },
  {
   "cell_type": "markdown",
   "metadata": {},
   "source": [
    "Read the project description, and detailed instructions for this assignment, in the 'A4_ProjectOutlineAndProposal' pdf."
   ]
  },
  {
   "cell_type": "markdown",
   "metadata": {},
   "source": [
    "## Group Members: Fill in the Student ID's of each group member here\n",
    "- A11463602\n",
    "- A14255637\n",
    "- A13167547\n",
    "- A13633912"
   ]
  },
  {
   "cell_type": "markdown",
   "metadata": {},
   "source": [
    "### Research Question\n",
    "\n",
    "What is your research question? (1-2 sentences)"
   ]
  },
  {
   "cell_type": "markdown",
   "metadata": {},
   "source": [
    "What is the relationship between race/gender/resident status and traffic violation frequency in San Diego?"
   ]
  },
  {
   "cell_type": "markdown",
   "metadata": {},
   "source": [
    "### Hypothesis\n",
    "\n",
    "What is your prediction (2-3 sentences)"
   ]
  },
  {
   "cell_type": "markdown",
   "metadata": {},
   "source": [
    "We predict that women drivers tend to get pulled over by police officers more often than male drivers. As for race, we predict that minority groups and nonwhite races also tend to get stopped more frequently than others. After skimming through the dataset, we also predict that San Diego residents tend to get stopped in a longer time frame and frequently get tickets more than non-residents. "
   ]
  },
  {
   "cell_type": "markdown",
   "metadata": {},
   "source": [
    "### Dataset(s)\n",
    "\n",
    "What data will you use to answer your question? Describe the dataset in terms of number of observations, what kind of features it contains, etc. You must use at least one dataset containing at least approximately 1000 observations (if your data are smaller but you feel they are sufficient, email Prof. Voytek). You are welcome (and in fact recommended) to find multiple datasets! If you do so, describe each one, and briefly explain how you will combine them together. "
   ]
  },
  {
   "cell_type": "markdown",
   "metadata": {},
   "source": [
    "Dataset Name: Police Vehicle Stops\n",
    "Link to the dataset: https://data.sandiego.gov/datasets/police-vehicle-stops/\n",
    "Number of observations: 28636 entries in year-to-date dataset\n",
    "\n",
    "The websites provides data for vehicle stops in separate datasets per year, and also provides a separate dataset with the results of each traffic stop. The vehicle stop dataset contains information such as the race, gender, and age of the person stopped, as well as the stop date, time, and location. The separate dataset with results has information on whether the stop resulted in a warning, a ticket, etc. We can analyze these independently or combine them to see any relationships between the profile of the person stopped and the result of the stop."
   ]
  },
  {
   "cell_type": "markdown",
   "metadata": {},
   "source": [
    "### Background & Prior Work\n",
    "\n",
    "Why is this question of interest, what background information led you to your hypothesis, and why is this important?\n",
    "\n",
    "Find some relevant prior work, and reference them. Even if you think you have a totally novel question, find the most similar prior work you can, and discuss how it relates to your project. \n",
    "\n",
    "References can be research publications, but they need not be: blogs, github repositories, company websites, etc., are viable references if they are relevant to your project.\n",
    "\n",
    "(2-3 paragraphs, including at least 2 references)"
   ]
  },
  {
   "cell_type": "markdown",
   "metadata": {},
   "source": [
    "Every day drivers across the United States are stopped by police officers and issued traffic tickets. Often, drivers get pulled over for a few common reasons, such as speeding, distracted driving, equipment violations, tailgating and improper lane changes, etc. However, there might be other factors such as race, gender, and age, as well as time of day and location, that could impact both whether a driver is pulled over for a traffic violation, as well as the severity of the result.\n",
    "\n",
    "As for background information, we did some research on the issue of police vehicle stops to further making predictions for this project. One of the articles we found indicated that a larger portion of black and hispanic drivers were being pulled over as opposed to white drivers. Additionally, a similar analysis conducted on traffic stop data showed that black and hispanic drivers were “more likely than white drivers to be searched following a traffic stop”. Plus, based on our own experiences, as well as those of others frequently heard about in the media, we came to the prediction that minority groups may possible be targeted with more severe or frequent citations. As for gender, there are existing stereotypes that women normally have a harder time on the road compared to men. Plus, gender ideologies that have been established lead us to the prediction that women tend to get pulled over more often. Looking into this data would help clarify these stereotypes and ideologies.\n",
    "\n",
    "As we all know police officers can’t randomly pull drivers over and give tickets without having probable cause, like speeding or equipment violations. However, there might be cases where you feel as though you are not at fault but afraid to fight back against them because police officers have higher authority. In fact, we ourselves had experienced being pulled over and getting tickets for unreasonable situations. We believe this information may be important for us and others to figure out a way to back up ourselves under circumstances that we don’t feel at fault. In any case, whether these variables have some correlation or relationship with traffic violations would be both interesting and useful to know.\n",
    "\n",
    "References:\n",
    "- 1) http://www.kpbs.org/news/2014/may/19/san-diego-police-departments-racial-data-shows-irr/\n",
    "- 2) https://www.sandiego.gov/sites/default/files/sdpdvehiclestopsfinal.pdf"
   ]
  },
  {
   "cell_type": "markdown",
   "metadata": {},
   "source": [
    "### Proposed Methods\n",
    "\n",
    "What methods will you use to analyze your data?\n",
    "\n",
    "- How 'clean' is the data? To the extent that it requires cleaning, how will you do so?\n",
    "- How will you analyze the data? Be as specific as you can. Briefly mention any pre-processing steps that are required for your methods (for example, checking data distributions and performing any transformations that may be required). Include a brief outline of how you will apply your chosen method(s). \n",
    "- What do you plan to report? Briefly mention any key visualizations you plan to create, and/or the kind of result you will be able to report that addresses your question (this could be, for example, the outcome of some statistical test(s), prediction error on a model, a model fit parameter, etc.).\n",
    "- Include a list of packages you expect to use for you project. If you plan to use packages we have not used in class, add a very brief description about them (a few words is sufficient). "
   ]
  },
  {
   "cell_type": "markdown",
   "metadata": {},
   "source": [
    "The data is mostly clean already, because most of the information is relevant to our analysis. We may end up removing some information like timestamp and search consent if they are redundant or not frequently used enough for us to perform a meaningful analysis.\n",
    "\n",
    "To start our analyses, we will likely need to divide the dataset into multiple sets categorized by what relationship we are researching. Currently we have one large set with information such as race, gender, and age, but it may be easier to plot and analyze this data if we separate them and then possibly refer to the second dataset with the traffic stop results. We may also split the dataset as currently it has information for both moving and equipment violations together, sorted by the data of which the stop was recorded. Additionally, the data contains information about the police service area in which the stop occurred. We will likely have to do more research on these service codes to perform any meaningful analysis with them. There is also data provided that is lacking information in one or more categories (race, gender, etc), so we will have to remove these as part of our analysis. In general, we will most likely start with removing the incomplete data, combining the first dataset with the traffic stop results, and then separating them into categories to analyze independently.\n",
    "\n",
    "We plan to report any significant correlation between variables such as gender, age, race, and stop time, length, frequency, and result. Some visualizations we will use includes the linear regression model, where we can show the relationship between variables like gender and age, as well as other visualization methods such as histograms and plots to compare and contrast the data.\n",
    "\n",
    "Packages we plan to use:\n",
    "- pandas\n",
    "- matplotlib\n",
    "- numpy"
   ]
  },
  {
   "cell_type": "markdown",
   "metadata": {},
   "source": [
    "### Discussion\n",
    "\n",
    "What are the pitfalls and potential confounds of your data and/or methods? For example, how might biases in your data sources or analyses influence your interpretations? What will you do if you methods don't work and/or your hypotheses are wrong?\n",
    "\n",
    "(2-3 paragraphs)"
   ]
  },
  {
   "cell_type": "markdown",
   "metadata": {},
   "source": [
    "One of our goals in our analysis is to find these potential confounds in the data. For example, if it’s true that race/gender/age have some relationship with the time, frequency, length, and results of traffic stops, it is our hope that we will find out. However, to do so we will likely need extra information about the demographics of San Diego drivers, as it is difficult to generalize how often a specific category of drivers is being stopped without knowing information about who is on the road in the first place. A potential pitfall may be in drawing a conclusion from this data without placing it into the proper context. \n",
    "\n",
    "Since the data we are using is provided by the city, it is unlikely that it is biased, so hopefully we won’t run into any issues in that regard. However, based on some of the background information we found, there is already research claiming that there is some significance to the relationship between traffic stop frequency and race/gender, so it’s important that we don’t allow this information to influence our analysis. If our analysis methods don’t work we will do some more research and see what other methods we can use to potentially discover any relationships in the data. There is no harm in our hypothesis being wrong as whatever we discover from our analysis will be useful to use regardless- whether there is any significant relationship between these variables or not. "
   ]
  }
 ],
 "metadata": {
  "kernelspec": {
   "display_name": "Python 3",
   "language": "python",
   "name": "python3"
  },
  "language_info": {
   "codemirror_mode": {
    "name": "ipython",
    "version": 3
   },
   "file_extension": ".py",
   "mimetype": "text/x-python",
   "name": "python",
   "nbconvert_exporter": "python",
   "pygments_lexer": "ipython3",
   "version": "3.6.0"
  }
 },
 "nbformat": 4,
 "nbformat_minor": 2
}
